{
 "cells": [
  {
   "cell_type": "code",
   "execution_count": null,
   "id": "economic-being",
   "metadata": {},
   "outputs": [],
   "source": []
  }
 ],
 "metadata": {},
 "nbformat": 4,
 "nbformat_minor": 5
}
